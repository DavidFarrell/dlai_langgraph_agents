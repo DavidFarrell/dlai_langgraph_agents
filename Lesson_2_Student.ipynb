{
 "cells": [
  {
   "cell_type": "markdown",
   "id": "21fa2e13-567d-4509-9023-c99fb230f31f",
   "metadata": {},
   "source": [
    "# Lesson 2 : LangGraph Components"
   ]
  },
  {
   "metadata": {
    "ExecuteTime": {
     "end_time": "2024-06-15T08:30:29.921891Z",
     "start_time": "2024-06-15T08:30:29.918425Z"
    }
   },
   "cell_type": "code",
   "source": [
    "# Install specific versions of packages\n",
    "#!pip install langgraph==0.0.53 langchain-core==0.2.0 langchain-openai==0.1.7 langchain-community==0.2.0 pygraphviz==1.13 ipython==8.18.1\n",
    "\n",
    "\n"
   ],
   "id": "333a1cfdbb4e81c8",
   "outputs": [],
   "execution_count": 1
  },
  {
   "metadata": {},
   "cell_type": "markdown",
   "source": [
    "There is a more standard langchain agent prompt here:\n",
    "\n",
    "```python\n",
    "# set the LANGCHAIN_API_KEY environment variable (create key in settings)\n",
    "from langchain import hub\n",
    "prompt = hub.pull(\"hwchase17/react\")\n",
    "```\n",
    "\n",
    "```markdown\n",
    "Answer the following questions as best you can. You have access to the following tools:\n",
    "\n",
    "{tools}\n",
    "\n",
    "Use the following format:\n",
    "\n",
    "Question: the input question you must answer\n",
    "Thought: you should always think about what to do\n",
    "Action: the action to take, should be one of [{tool_names}]\n",
    "Action Input: the input to the action\n",
    "Observation: the result of the action\n",
    "... (this Thought/Action/Action Input/Observation can repeat N times)\n",
    "Thought: I now know the final answer\n",
    "Final Answer: the final answer to the original input question\n",
    "\n",
    "Begin!\n",
    "\n",
    "Question: {input}\n",
    "Thought:{agent_scratchpad}\n",
    "```\n"
   ],
   "id": "5f0c6ff9887c81c3"
  },
  {
   "cell_type": "code",
   "id": "f5762271-8736-4e94-9444-8c92bd0e8074",
   "metadata": {
    "height": 47,
    "ExecuteTime": {
     "end_time": "2024-06-15T09:20:34.653416Z",
     "start_time": "2024-06-15T09:20:34.642329Z"
    }
   },
   "source": [
    "from dotenv import load_dotenv\n",
    "\n",
    "_ = load_dotenv()"
   ],
   "outputs": [],
   "execution_count": 18
  },
  {
   "cell_type": "code",
   "id": "d0168aee-bce9-4d60-b827-f86a88187e31",
   "metadata": {
    "height": 115,
    "ExecuteTime": {
     "end_time": "2024-06-15T09:20:37.526480Z",
     "start_time": "2024-06-15T09:20:37.524114Z"
    }
   },
   "source": [
    "from langgraph.graph import StateGraph, END #  \n",
    "from typing import TypedDict, Annotated # these are used to construct the agent state\n",
    "import operator  \n",
    "from langchain_core.messages import AnyMessage, SystemMessage, HumanMessage, ToolMessage # these are langchain emssage types to represent human / ai / system messages\n",
    "from langchain_openai import ChatOpenAI # langchain wrapper aroudn teh api\n",
    "from langchain_community.tools.tavily_search import TavilySearchResults # the tool"
   ],
   "outputs": [],
   "execution_count": 20
  },
  {
   "cell_type": "code",
   "id": "2589c5b6-6cc2-4594-9a17-dccdcf676054",
   "metadata": {
    "height": 64,
    "ExecuteTime": {
     "end_time": "2024-06-15T09:20:38.410679Z",
     "start_time": "2024-06-15T09:20:38.407695Z"
    }
   },
   "source": [
    "tool = TavilySearchResults(max_results=4) #increased number of results\n",
    "print(type(tool))\n",
    "print(tool.name)"
   ],
   "outputs": [
    {
     "name": "stdout",
     "output_type": "stream",
     "text": [
      "<class 'langchain_community.tools.tavily_search.tool.TavilySearchResults'>\n",
      "tavily_search_results_json\n"
     ]
    }
   ],
   "execution_count": 21
  },
  {
   "cell_type": "markdown",
   "id": "e196c186-af55-4f2d-b569-b7d63a859304",
   "metadata": {},
   "source": [
    "> If you are not familiar with python typing annotation, you can refer to the [python documents](https://docs.python.org/3/library/typing.html)."
   ]
  },
  {
   "cell_type": "code",
   "id": "a2ba84ec-c172-4de7-ac55-e3158a531b23",
   "metadata": {
    "height": 47,
    "ExecuteTime": {
     "end_time": "2024-06-15T09:20:52.647919Z",
     "start_time": "2024-06-15T09:20:52.645309Z"
    }
   },
   "source": [
    "class AgentState(TypedDict):\n",
    "    # this annotated stuff means that when we go to overwrite it we instead add to the end\n",
    "    messages: Annotated[list[AnyMessage], operator.add]"
   ],
   "outputs": [],
   "execution_count": 22
  },
  {
   "cell_type": "markdown",
   "id": "74c7ba73-e603-453b-b06f-5db92c567b19",
   "metadata": {},
   "source": [
    "> Note: in `take_action` below, some logic was added to cover the case that the LLM returned a non-existent tool name. Even with function calling, LLMs can still occasionally hallucinate. Note that all that is done is instructing the LLM to try again! An advantage of an agentic organization."
   ]
  },
  {
   "cell_type": "code",
   "id": "876d5092-b8ef-4e38-b4d7-0e80c609bf7a",
   "metadata": {
    "height": 727,
    "ExecuteTime": {
     "end_time": "2024-06-15T09:37:03.972393Z",
     "start_time": "2024-06-15T09:37:03.967711Z"
    }
   },
   "source": [
    "class Agent:\n",
    "\n",
    "    def __init__(self, model, tools, system=\"\"): # system is the system prompt\n",
    "        self.system = system\n",
    "        graph = StateGraph(AgentState) #  initialise the graph with AgentState\n",
    "        \n",
    "        # now we are just creating places for the actuall 'stuff' to go - we are sketching the graph\n",
    "        graph.add_node(\"llm_decide\", self.call_openai)\n",
    "        graph.add_node(\"action\", self.take_action)\n",
    "        graph.add_conditional_edges(\n",
    "            \"llm_decide\",\n",
    "            self.exists_action,\n",
    "            {True: \"action\", False: END} # we imported END at the beginning - this tells langgraph we are done\n",
    "        )\n",
    "        graph.add_edge(\"action\", \"llm_decide\") # this creates an edge from action to llm_decide to complete the loop\n",
    "        graph.set_entry_point(\"llm_decide\") # and this tells us where we start\n",
    "        \n",
    "        self.graph = graph.compile() # this is what we call after all the set ups and creates the graph\n",
    "        self.tools = {t.name: t for t in tools} # save the tools - mapping name to the tool itself\n",
    "        self.model = model.bind_tools(tools) # save the models -  we are passing in the list of tools - it lets model know it has these tools available\n",
    "\n",
    "\n",
    "    def call_openai(self, state: AgentState): # all nodes and edges take the AgentState in as a parameter\n",
    "        messages = state['messages'] # we'll grab the messages\n",
    "        if self.system:  # then we'll add the system state which defines the Agent's rules and we'll call the LLM \n",
    "            # This checks ⬆️ if there is a system message. If so we insert it at the start before we do the message history.\n",
    "            messages = [SystemMessage(content=self.system)] + messages # <- it puts the system prompt at the start\n",
    "        # this sends the entire history to the LLM - starting with system and then the chatter.\n",
    "        message = self.model.invoke(messages) \n",
    "        return {'messages': [message]} # it's a dictionary - but the dict only has one message - the message returned from the llm - because of annotate we don't overwrite the agentstate we just add to it\n",
    "    \n",
    "\n",
    "    def take_action(self, state: AgentState):\n",
    "        # IF we get into this state, it's because we KNOW that we want to call a tool\n",
    "        # so this line here grabs the tool calls from the most recent message in the state\n",
    "        # we know it's in there cos we got here\n",
    "        # it could be a list of tool calls which allows parallel tool calling\n",
    "        tool_calls = state['messages'][-1].tool_calls\n",
    "        results = []\n",
    "        for t in tool_calls:\n",
    "            print(f\"Calling: {t}\")\n",
    "            if not t['name'] in self.tools:      # check for bad tool name from LLM\n",
    "                print(\"\\n ....bad tool name....\")\n",
    "                result = \"bad tool name, retry\"  # instruct LLM to retry if bad  - this string is sent back as the \"observation\" so it'll see it and hopefully try again\n",
    "            else:\n",
    "                result = self.tools[t['name']].invoke(t['args'])\n",
    "            # because we might call multiple tools, we have to add each result to a collection of results.\n",
    "            results.append(ToolMessage(tool_call_id=t['id'], name=t['name'], content=str(result)))\n",
    "            #print (f\"Appending ToolMessage(tool_call_id = {t['id']}, name={t['name']}, content={str(result)}\")\n",
    "        print(\"Back to the model! We have passed back all the new messages.\")\n",
    "        return {'messages': results}\n",
    "\n",
    "\n",
    "\n",
    "    def exists_action(self, state: AgentState):\n",
    "        # This is the conditional node.\n",
    "        # It returns True of False depending on whether there are tools or not.\n",
    "        # So we grab the latest message and if it has  ANY tool_calls it's true\n",
    "        # Question for later - if take_action adds more than one thing to the messages will the older get lost? \n",
    "        # answer no - because we only ever return one message from LLM - then we go here and from HERE we go to take action - in take action you see results.append - that is what allows multiple tool answers in one loop\n",
    "        result = state['messages'][-1]\n",
    "        return len(result.tool_calls) > 0\n"
   ],
   "outputs": [],
   "execution_count": 25
  },
  {
   "cell_type": "code",
   "id": "10084a02-2928-4945-9f7c-ad3f5b33caf7",
   "metadata": {
    "height": 149,
    "ExecuteTime": {
     "end_time": "2024-06-15T08:30:40.441134Z",
     "start_time": "2024-06-15T08:30:40.396337Z"
    }
   },
   "source": [
    "prompt = \"\"\"You are a smart research assistant. Use the search engine to look up information. \\\n",
    "You are allowed to make multiple calls (either together or in sequence). \\\n",
    "Only look up information when you are sure of what you want. \\\n",
    "If you need to look up some information before asking a follow up question, you are allowed to do that!\n",
    "\"\"\"\n",
    "\n",
    "model = ChatOpenAI(model=\"gpt-3.5-turbo\")  #reduce inference cost\n",
    "abot = Agent(model, [tool], system=prompt)"
   ],
   "outputs": [],
   "execution_count": 7
  },
  {
   "cell_type": "code",
   "id": "a3d6f5f4-2392-41b9-ab96-7919840baa3e",
   "metadata": {
    "height": 64,
    "ExecuteTime": {
     "end_time": "2024-06-15T08:30:41.246717Z",
     "start_time": "2024-06-15T08:30:41.201233Z"
    }
   },
   "source": [
    "from IPython.display import Image\n",
    "# abot is our Agent  - we grab the graph object, get the graph from it and draw we can see our flow\n",
    "Image(abot.graph.get_graph().draw_png())"
   ],
   "outputs": [
    {
     "data": {
      "image/png": "[encoded data removed]",
      "text/plain": [
       "<IPython.core.display.Image object>"
      ]
     },
     "execution_count": 8,
     "metadata": {},
     "output_type": "execute_result"
    }
   ],
   "execution_count": 8
  },
  {
   "cell_type": "code",
   "id": "83588e70-254f-4f83-a510-c8ae81e729b0",
   "metadata": {
    "height": 47,
    "ExecuteTime": {
     "end_time": "2024-06-15T09:42:19.600138Z",
     "start_time": "2024-06-15T09:42:15.417002Z"
    }
   },
   "source": [
    "messages = [HumanMessage(content=\"what is the latest on Michael Stipe's solo album?\")]\n",
    "result = abot.graph.invoke({\"messages\": messages})  # the AgentState is built on messages - so you can't just invoke with a string, you have to send a dictionary with a messages list item"
   ],
   "outputs": [
    {
     "name": "stdout",
     "output_type": "stream",
     "text": [
      "Calling: {'name': 'tavily_search_results_json', 'args': {'query': 'Michael Stipe latest solo album news 2023'}, 'id': 'call_93XnuixXvgQIqz4GXH8Q8AVg'}\n",
      "Back to the model! We have passed back all the new messages.\n"
     ]
    }
   ],
   "execution_count": 34
  },
  {
   "cell_type": "code",
   "id": "89a06a8c-fcd4-4ca6-98f0-36c5809813e6",
   "metadata": {
    "height": 30,
    "scrolled": true,
    "ExecuteTime": {
     "end_time": "2024-06-15T09:40:29.886532Z",
     "start_time": "2024-06-15T09:40:29.883327Z"
    }
   },
   "source": "result # this is the final state of the agent",
   "outputs": [
    {
     "data": {
      "text/plain": [
       "{'messages': [HumanMessage(content=\"what is the latest on Michael Stipe's solo album?\"),\n",
       "  AIMessage(content='', additional_kwargs={'tool_calls': [{'id': 'call_adRu6Frz136AB0B7Wr4iihQ9', 'function': {'arguments': '{\"query\":\"latest news on Michael Stipe\\'s solo album 2023\"}', 'name': 'tavily_search_results_json'}, 'type': 'function'}]}, response_metadata={'token_usage': {'completion_tokens': 29, 'prompt_tokens': 156, 'total_tokens': 185}, 'model_name': 'gpt-4o', 'system_fingerprint': 'fp_319be4768e', 'finish_reason': 'tool_calls', 'logprobs': None}, id='run-7995e826-f7f5-45f2-a57d-7f75bf234c9c-0', tool_calls=[{'name': 'tavily_search_results_json', 'args': {'query': \"latest news on Michael Stipe's solo album 2023\"}, 'id': 'call_adRu6Frz136AB0B7Wr4iihQ9'}]),\n",
       "  ToolMessage(content='[{\\'url\\': \\'https://www.nytimes.com/2023/12/03/magazine/michael-stipe-solo-album.html\\', \\'content\\': \\'It was an unusual experience: being Michael Stipe, being in R.E.M., selling some 90 million albums, touring the world. The band was among the most acclaimed of its generation, and Stipe was always ...\\'}, {\\'url\\': \\'https://www.rollingstone.com/music/music-news/michael-stipe-solo-album-interview-1234908779/\\', \\'content\\': \\'By Daniel Kreps. December 3, 2023. Michael Dia Dipasupil/Getty Images. Michael Stipe reveals in a new interview that he is slowly but surely working on a solo album, his first since the ...\\'}, {\\'url\\': \\'https://americansongwriter.com/michael-stipe-set-to-release-first-solo-album-in-2023/\\', \\'content\\': \\'Former R.E.M. singer Michael Stipe revealed that he will release his first solo album in 2023. Videos by American Songwriter \"I\\\\\\'m working on a solo album, my first,\" said Stipe. \"I\\\\\\'m ...\\'}, {\\'url\\': \\'https://ultimateclassicrock.com/michael-stipe-solo-album/\\', \\'content\\': \\'Dia Dipasupil, Getty Images. Former R.E.M. singer Michael Stipe said he was working on his first solo album and expected to release it in 2023. He put out his debut single, \"Your Capricious Soul ...\\'}]', name='tavily_search_results_json', tool_call_id='call_adRu6Frz136AB0B7Wr4iihQ9'),\n",
       "  AIMessage(content='Michael Stipe, the former R.E.M. frontman, has been working on his first solo album and is set to release it in 2023. Here are a few key points from the latest updates:\\n\\n1. **Rolling Stone Interview**: In a recent interview with Rolling Stone, Michael Stipe mentioned that he is slowly but surely working on his solo album. This is his first solo project after a long career with R.E.M. [Read more](https://www.rollingstone.com/music/music-news/michael-stipe-solo-album-interview-1234908779/).\\n\\n2. **American Songwriter**: Stipe confirmed that the album is indeed in progress and set for a 2023 release. This will mark his debut solo album after the disbandment of R.E.M. [Read more](https://americansongwriter.com/michael-stipe-set-to-release-first-solo-album-in-2023/).\\n\\n3. **Ultimate Classic Rock**: Additional insights reveal that Stipe has already released a debut single, \"Your Capricious Soul,\" as part of this new venture. [Read more](https://ultimateclassicrock.com/michael-stipe-solo-album/).\\n\\nFor more comprehensive details, you can check out the full articles on these websites.', response_metadata={'token_usage': {'completion_tokens': 267, 'prompt_tokens': 519, 'total_tokens': 786}, 'model_name': 'gpt-4o', 'system_fingerprint': 'fp_319be4768e', 'finish_reason': 'stop', 'logprobs': None}, id='run-dcfc9004-c120-48bf-b790-77c01aceab81-0')]}"
      ]
     },
     "execution_count": 32,
     "metadata": {},
     "output_type": "execute_result"
    }
   ],
   "execution_count": 32
  },
  {
   "cell_type": "code",
   "id": "6cb3ef4c-58b3-401b-b104-0d51e553d982",
   "metadata": {
    "height": 30,
    "ExecuteTime": {
     "end_time": "2024-06-15T09:40:29.898413Z",
     "start_time": "2024-06-15T09:40:29.887230Z"
    }
   },
   "source": "result['messages'][-1].content # and this is the last message",
   "outputs": [
    {
     "data": {
      "text/plain": [
       "'Michael Stipe, the former R.E.M. frontman, has been working on his first solo album and is set to release it in 2023. Here are a few key points from the latest updates:\\n\\n1. **Rolling Stone Interview**: In a recent interview with Rolling Stone, Michael Stipe mentioned that he is slowly but surely working on his solo album. This is his first solo project after a long career with R.E.M. [Read more](https://www.rollingstone.com/music/music-news/michael-stipe-solo-album-interview-1234908779/).\\n\\n2. **American Songwriter**: Stipe confirmed that the album is indeed in progress and set for a 2023 release. This will mark his debut solo album after the disbandment of R.E.M. [Read more](https://americansongwriter.com/michael-stipe-set-to-release-first-solo-album-in-2023/).\\n\\n3. **Ultimate Classic Rock**: Additional insights reveal that Stipe has already released a debut single, \"Your Capricious Soul,\" as part of this new venture. [Read more](https://ultimateclassicrock.com/michael-stipe-solo-album/).\\n\\nFor more comprehensive details, you can check out the full articles on these websites.'"
      ]
     },
     "execution_count": 33,
     "metadata": {},
     "output_type": "execute_result"
    }
   ],
   "execution_count": 33
  },
  {
   "cell_type": "code",
   "id": "dc3293b7-a50c-43c8-a022-8975e1e444b8",
   "metadata": {
    "height": 47,
    "ExecuteTime": {
     "end_time": "2024-06-15T09:44:36.823451Z",
     "start_time": "2024-06-15T09:44:21.954675Z"
    }
   },
   "source": [
    "messages = [HumanMessage(content=\"What are the 10 most common problems people have when they use intellij for python in windows, but running under wsl - and for each of thise what is a common workaround? it is important to have a 1-1 ordered list of problem / solution\")]\n",
    "result = abot.graph.invoke({\"messages\": messages})"
   ],
   "outputs": [
    {
     "name": "stdout",
     "output_type": "stream",
     "text": [
      "Calling: {'name': 'tavily_search_results_json', 'args': {'query': 'common problems using IntelliJ for Python in Windows with WSL'}, 'id': 'call_adRu6Frz136AB0B7Wr4iihQ9'}\n",
      "Back to the model! We have passed back all the new messages.\n",
      "Calling: {'name': 'tavily_search_results_json', 'args': {'query': 'common issues with IntelliJ Python setup in WSL'}, 'id': 'call_ordZb1fMkTcmEMP543qvVdeM'}\n",
      "Calling: {'name': 'tavily_search_results_json', 'args': {'query': 'workarounds for IntelliJ Python issues in WSL'}, 'id': 'call_56oOUlovrWmR6lDm09h44knc'}\n",
      "Back to the model! We have passed back all the new messages.\n"
     ]
    }
   ],
   "execution_count": 37
  },
  {
   "cell_type": "code",
   "id": "0722c3d4-4cbf-43bf-81b0-50f634c4ce61",
   "metadata": {
    "height": 30,
    "ExecuteTime": {
     "end_time": "2024-06-15T09:44:36.826477Z",
     "start_time": "2024-06-15T09:44:36.824316Z"
    }
   },
   "source": [
    "result['messages'][-1].content"
   ],
   "outputs": [
    {
     "data": {
      "text/plain": [
       "'Based on the information gathered, here are ten common problems people face when using IntelliJ for Python in Windows with WSL, along with common workarounds for each:\\n\\n1. **Problem: Performance Issues**\\n   - **Solution:** Store all project files under the `\\\\\\\\wsl$` folder of your distro instead of the Windows side to reduce performance drawbacks. This improves file access speed.\\n\\n2. **Problem: IntelliJ Blocks in Firewall**\\n   - **Solution:** If IntelliJ appears blocked in the firewall settings, enable the connection by selecting the rule, choosing Properties, and then selecting \"Allow the connection.\" Restart IntelliJ after making these changes.\\n\\n3. **Problem: Compiler Ignores Changes**\\n   - **Solution:** Ensure the project directory in WSL is added as an exclusion in Windows Defender to prevent it from ignoring recent changes.\\n\\n4. **Problem: Slow Debugger Performance**\\n   - **Solution:** Allocate more RAM to the WSL2 instance to improve performance. For example, assign at least 3GB of RAM to ensure smooth operation.\\n\\n5. **Problem: SSH Configuration Issues**\\n   - **Solution:** Install and configure OpenSSH in WSL. Edit the SSH config file to include your WSL account name and ensure the correct setup.\\n\\n6. **Problem: Difficulty Opening WSL Projects**\\n   - **Solution:** Directly open a project stored in the WSL file system via IntelliJ\\'s \"Open\" dialog by typing the path to the `\\\\\\\\wsl$` project directory.\\n\\n7. **Problem: IntelliJ Not Recognizing Python Interpreter**\\n   - **Solution:** Configure the Python interpreter in IntelliJ to point to the Python executable within the WSL environment. This can be set up in the project settings.\\n\\n8. **Problem: Network Connection Issues**\\n   - **Solution:** Ensure that WSL is properly configured to allow network connections. This might involve checking the Windows firewall settings and enabling relevant rules.\\n\\n9. **Problem: WSL2 Backend Memory Limits**\\n   - **Solution:** Monitor and adjust the memory allocated to WSL2. If running multiple IDE backends, ensure adequate RAM allocation to avoid hitting memory limits.\\n\\n10. **Problem: File System Syncing Delays**\\n    - **Solution:** Use tools like `rsync` to synchronize files between Windows and WSL to avoid delays in file system syncing. This ensures that changes are promptly reflected.\\n\\nThese solutions should help mitigate common issues encountered when using IntelliJ for Python development in a Windows environment with WSL.'"
      ]
     },
     "execution_count": 38,
     "metadata": {},
     "output_type": "execute_result"
    }
   ],
   "execution_count": 38
  },
  {
   "cell_type": "code",
   "id": "6b2f82fe-3ec4-4917-be51-9fb10d1317fa",
   "metadata": {
    "height": 183,
    "ExecuteTime": {
     "end_time": "2024-06-15T08:31:57.220834Z",
     "start_time": "2024-06-15T08:31:50.289557Z"
    }
   },
   "source": [
    "# Note, the query was modified to produce more consistent results. \n",
    "# Results may vary per run and over time as search information and models change.\n",
    "\n",
    "query = \"Who won the super bowl in 2024? In what state is the winning team headquarters located? \\\n",
    "What is the GDP of that state? Answer each question.\" \n",
    "messages = [HumanMessage(content=query)]\n",
    "\n",
    "model = ChatOpenAI(model=\"gpt-4o\")  # requires more advanced model\n",
    "abot = Agent(model, [tool], system=prompt)\n",
    "result = abot.graph.invoke({\"messages\": messages})"
   ],
   "outputs": [
    {
     "name": "stdout",
     "output_type": "stream",
     "text": [
      "Calling: {'name': 'tavily_search_results_json', 'args': {'query': '2024 Super Bowl winner'}, 'id': 'call_8Bbhkatl0gPyrIo2cMXOtuY4'}\n",
      "Calling: {'name': 'tavily_search_results_json', 'args': {'query': 'current GDP of the US states 2024'}, 'id': 'call_VI5eyF793w1CTcI6O6nbStZx'}\n",
      "Back to the model! We have passed back all the new messages.\n"
     ]
    }
   ],
   "execution_count": 15
  },
  {
   "cell_type": "code",
   "id": "ee0fe1c7-77e2-499c-a2f9-1f739bb6ddf0",
   "metadata": {
    "height": 30,
    "ExecuteTime": {
     "end_time": "2024-06-15T08:31:57.224078Z",
     "start_time": "2024-06-15T08:31:57.221723Z"
    }
   },
   "source": [
    "print(result['messages'][-1].content)"
   ],
   "outputs": [
    {
     "name": "stdout",
     "output_type": "stream",
     "text": [
      "1. **Who won the Super Bowl in 2024?**\n",
      "   - The Kansas City Chiefs won the Super Bowl in 2024, beating the San Francisco 49ers 25-22 in overtime.\n",
      "\n",
      "2. **In what state is the winning team's headquarters located?**\n",
      "   - The Kansas City Chiefs are headquartered in Kansas City, Missouri.\n",
      "\n",
      "3. **What is the GDP of that state?**\n",
      "   - For the most recent data, Missouri's GDP can be found on the Bureau of Economic Analysis website, which reports GDP by state. The GDP of Missouri for the year 2023 was not specifically listed, but the data shows varied growth rates across states, with Missouri's GDP growth being in line with national trends. The exact GDP for Missouri in the first quarter of 2024 is not explicitly mentioned in the initial search results.\n"
     ]
    }
   ],
   "execution_count": 16
  },
  {
   "metadata": {
    "ExecuteTime": {
     "end_time": "2024-06-15T08:31:57.226727Z",
     "start_time": "2024-06-15T08:31:57.224966Z"
    }
   },
   "cell_type": "code",
   "source": "",
   "id": "94f9d6a56239f4e7",
   "outputs": [],
   "execution_count": 16
  },
  {
   "metadata": {
    "ExecuteTime": {
     "end_time": "2024-06-15T08:32:15.399630Z",
     "start_time": "2024-06-15T08:31:57.227774Z"
    }
   },
   "cell_type": "code",
   "source": [
    "# Note, the query was modified to produce more consistent results. \n",
    "# Results may vary per run and over time as search information and models change.\n",
    "\n",
    "query = \"What were the GDPs of Missouri and the United Kingdom over the last decade.  Which had a greater GDP and by how much?  What was the annual turnover of the highest earning company in that same perios.  Now create an ordered rank of each, ordered highest to lowest.  Answer all questions.  Use billions of USD\" \n",
    "messages = [HumanMessage(content=query)]\n",
    "\n",
    "model = ChatOpenAI(model=\"gpt-4o\")  # requires more advanced model\n",
    "abot = Agent(model, [tool], system=prompt)\n",
    "result = abot.graph.invoke({\"messages\": messages})\n",
    "\n",
    "print (\"***** Final*****\\n\")\n",
    "print(result['messages'][-1].content)"
   ],
   "id": "d9a269fa5ea212fc",
   "outputs": [
    {
     "name": "stdout",
     "output_type": "stream",
     "text": [
      "Calling: {'name': 'tavily_search_results_json', 'args': {'query': 'Missouri GDP last decade'}, 'id': 'call_JWqfL4WZsUrrjCHmPaqssRsj'}\n",
      "Calling: {'name': 'tavily_search_results_json', 'args': {'query': 'United Kingdom GDP last decade'}, 'id': 'call_iqIGWvZeQXbfw1EHTnFMA0sr'}\n",
      "Back to the model! We have passed back all the new messages.\n",
      "Calling: {'name': 'tavily_search_results_json', 'args': {'query': 'highest earning company annual turnover last decade'}, 'id': 'call_wmwtBLUrElmZJyEzNiAEGVa0'}\n",
      "Back to the model! We have passed back all the new messages.\n",
      "***** Final*****\n",
      "\n",
      "### Highest Earning Company (Annual Turnover)\n",
      "- **Walmart** has consistently been the world's largest company by revenue since 2014 according to sources like Fortune and Wikipedia.\n",
      "- Walmart's annual revenue has been over $500 billion in recent years.\n",
      "\n",
      "Now let's summarize the relevant information:\n",
      "\n",
      "### GDP of Missouri and the United Kingdom (Last Decade)\n",
      "- **Missouri:** $336.63 billion (2022)\n",
      "- **United Kingdom:** Varied significantly, with 2021 being around $3 trillion.\n",
      "\n",
      "### Highest Earning Company\n",
      "- **Walmart:** Over $500 billion annually in recent years.\n",
      "\n",
      "### Comparison and Ordered Rank\n",
      "1. **Walmart**: Over $500 billion\n",
      "2. **United Kingdom**: Around $3 trillion (2021)\n",
      "3. **Missouri**: $336.63 billion (2022)\n",
      "\n",
      "### Which Had a Greater GDP and By How Much?\n",
      "- The United Kingdom had a greater GDP than Missouri. In 2022, the UK's GDP was around $3 trillion, compared to Missouri's $336.63 billion.\n",
      "- The difference is approximately $2.663 trillion.\n",
      "\n",
      "### Ordered Rank (From Highest to Lowest)\n",
      "1. **United Kingdom GDP**: Approx. $3 trillion (2021)\n",
      "2. **Walmart Annual Turnover**: Over $500 billion\n",
      "3. **Missouri GDP**: $336.63 billion (2022)\n",
      "\n",
      "If you need more detailed annual figures for each year over the last decade, please let me know!\n"
     ]
    }
   ],
   "execution_count": 17
  },
  {
   "cell_type": "code",
   "id": "1d643182-2802-40fb-ba35-d4f893c5b976",
   "metadata": {
    "height": 30,
    "ExecuteTime": {
     "end_time": "2024-06-15T08:32:15.403852Z",
     "start_time": "2024-06-15T08:32:15.401122Z"
    }
   },
   "source": [],
   "outputs": [],
   "execution_count": 17
  },
  {
   "metadata": {},
   "cell_type": "code",
   "outputs": [],
   "execution_count": null,
   "source": "",
   "id": "2b25e513c238a749"
  }
 ],
 "metadata": {
  "kernelspec": {
   "display_name": "Python 3 (ipykernel)",
   "language": "python",
   "name": "python3"
  },
  "language_info": {
   "codemirror_mode": {
    "name": "ipython",
    "version": 3
   },
   "file_extension": ".py",
   "mimetype": "text/x-python",
   "name": "python",
   "nbconvert_exporter": "python",
   "pygments_lexer": "ipython3",
   "version": "3.11.9"
  }
 },
 "nbformat": 4,
 "nbformat_minor": 5
}
